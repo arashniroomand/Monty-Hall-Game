{
 "cells": [
  {
   "cell_type": "markdown",
   "metadata": {},
   "source": [
    "## Info about the project and how to start "
   ]
  },
  {
   "cell_type": "markdown",
   "metadata": {},
   "source": [
    "- Define the doors\n",
    "\n",
    "- Shuffle the doors\n",
    "\n",
    "- Ask from user about automatic game or manual game\n",
    "\n",
    "- Get the initial choice\n",
    "\n",
    "- Show and releaved one of the doors which have goat\n",
    "\n",
    "- Ask from user about changing the door or not\n",
    "\n",
    "- Show the result"
   ]
  },
  {
   "cell_type": "markdown",
   "metadata": {},
   "source": [
    "THIS IS THE COMPLETE VERSION OF THE GAME\n",
    "\n",
    "- Define game mood\n",
    "\n",
    "- If it was manual game \n",
    "    - Choose a door \n",
    "    \n",
    "- System randomly choose a door"
   ]
  },
  {
   "cell_type": "code",
   "execution_count": 47,
   "metadata": {},
   "outputs": [],
   "source": [
    "import random \n",
    "\n",
    "\n",
    "def game_mood(mood):\n",
    "    if mood == 'auto':\n",
    "        initial_choice = random.choice(3))\n",
    "    elif mood == 'person':\n",
    "        initial_choice = int(input(\"Enter your choice (0, 1, or 2): \"))\n",
    "        \n",
    "    return initial_choice\n",
    "\n",
    "\n",
    "def monty_hall_game(switch_doors):\n",
    "    doors = ['goat','goat','car']\n",
    "    random.shuffle(doors)\n",
    "    \n",
    "    mood_game = input(\"Enter the mood of the game (auto or person): \")\n",
    "    initial_choice = game_mood(mood_game)\n",
    "    \n",
    "    doors_reveald = [i for i in range(3) if i != initial_choice and doors[i] != 'car']\n",
    "    door_reveald = random.choice(doors_reveald) \n",
    "    \n",
    "    if mood_game == 'auto':\n",
    "        if switch_doors:\n",
    "            final_choice = [i for i in range(3) if i != initial_choice and i != door_reveald][0]\n",
    "        else:\n",
    "            final_choice = initial_choice\n",
    "            \n",
    "    elif mood_game == 'person':\n",
    "        final_choice = input(\" Do you wanna change your current choice? (Yes or No): \")\n",
    "        \n",
    "        if final_choice == 'Yes':\n",
    "            final_choice = [i for i in range(3) if i != initial_choice and i != door_reveald][0]\n",
    "        else:\n",
    "            final_choice = initial_choice\n",
    "    \n",
    "    return doors[final_choice] == 'car'\n",
    "            \n",
    "\n",
    "\n"
   ]
  },
  {
   "cell_type": "code",
   "execution_count": 48,
   "metadata": {},
   "outputs": [
    {
     "data": {
      "text/plain": [
       "True"
      ]
     },
     "execution_count": 48,
     "metadata": {},
     "output_type": "execute_result"
    }
   ],
   "source": [
    "win_counter = 0\n",
    "for _ in range(1000):\n",
    "    if monty_hall_game(True):\n",
    "        win_counter += 1"
   ]
  },
  {
   "cell_type": "markdown",
   "metadata": {},
   "source": [
    "# Main code"
   ]
  },
  {
   "cell_type": "code",
   "execution_count": 25,
   "metadata": {},
   "outputs": [
    {
     "data": {
      "text/plain": [
       "(0.68625, 0.334375)"
      ]
     },
     "execution_count": 25,
     "metadata": {},
     "output_type": "execute_result"
    }
   ],
   "source": [
    "import random \n",
    "\n",
    "\n",
    "def monty_hall_game(switch_doors):\n",
    "    doors = ['goat','goat','car']\n",
    "    random.shuffle(doors)\n",
    "    \n",
    "    initial_choice = random.choice(range(3))\n",
    "    \n",
    "    doors_reveald = [i for i in range(3) if i != initial_choice and doors[i] != 'car']\n",
    "    door_reveald = random.choice(doors_reveald) \n",
    "    \n",
    "    if switch_doors:\n",
    "            final_choice = [i for i in range(3) if i != initial_choice and i != door_reveald][0]\n",
    "    else:\n",
    "        final_choice = initial_choice\n",
    "\n",
    "    return doors[final_choice] == 'car'\n",
    "            \n",
    "\n",
    "def simulation_game(num_game):\n",
    "    num_game_with_switching = sum(monty_hall_game(True) for _ in range(num_game))\n",
    "    num_game_without_switching = sum(monty_hall_game(False) for _ in  range(num_game))\n",
    "    \n",
    "    return num_game_with_switching/ num_game, num_game_without_switching/ num_game\n",
    "\n",
    "\n",
    "num_game = 1600\n",
    "simulation_game(num_game)\n",
    "\n"
   ]
  },
  {
   "cell_type": "code",
   "execution_count": 23,
   "metadata": {},
   "outputs": [
    {
     "name": "stdout",
     "output_type": "stream",
     "text": [
      "The percent of win is 0.354 and the percent of loosing is 0.646 .\n"
     ]
    }
   ],
   "source": [
    "win_counter = 0\n",
    "lose_counter = 0\n",
    "\n",
    "for _ in range(1000):\n",
    "    if monty_hall_game(False):\n",
    "        win_counter += 1\n",
    "    else:\n",
    "        lose_counter += 1\n",
    "    \n",
    "    \n",
    "total_game = win_counter + lose_counter\n",
    "print(f\"The percent of win is {win_counter/total_game} and the percent of loosing is {lose_counter/total_game} .\")"
   ]
  },
  {
   "cell_type": "markdown",
   "metadata": {},
   "source": [
    "- Checking my knowledge from yesterday , I started writing it without checking the code"
   ]
  },
  {
   "cell_type": "code",
   "execution_count": 24,
   "metadata": {},
   "outputs": [],
   "source": [
    "import random \n",
    "\n",
    "def monty_hall_game(switch_doors):\n",
    "    doors = ['car','goat','goat']\n",
    "    random.shuffle(doors)\n",
    "    \n",
    "    inital_choice = random.choice(range(3))\n",
    "    \n",
    "    doors_reveald = [ i for i in range(3) if i != inital_choice and doors[i] != 'car']\n",
    "    door_reveald = random.choice(doors_reveald)\n",
    "    \n",
    "    if switch_doors:\n",
    "        final_choice = [i for i in range(3) if i != inital_choice and i != door_reveald]\n",
    "    else:\n",
    "        final_choice = inital_choice\n"
   ]
  },
  {
   "cell_type": "code",
   "execution_count": 25,
   "metadata": {},
   "outputs": [],
   "source": []
  },
  {
   "cell_type": "code",
   "execution_count": 26,
   "metadata": {},
   "outputs": [
    {
     "data": {
      "text/plain": [
       "'goat'"
      ]
     },
     "execution_count": 26,
     "metadata": {},
     "output_type": "execute_result"
    }
   ],
   "source": [
    "doors[initial_choice]"
   ]
  },
  {
   "cell_type": "code",
   "execution_count": 1,
   "metadata": {},
   "outputs": [
    {
     "name": "stdout",
     "output_type": "stream",
     "text": [
      "0\n",
      "1\n",
      "2\n"
     ]
    }
   ],
   "source": []
  },
  {
   "cell_type": "code",
   "execution_count": 30,
   "metadata": {},
   "outputs": [],
   "source": [
    "\n",
    "    \n",
    "      "
   ]
  },
  {
   "cell_type": "code",
   "execution_count": null,
   "metadata": {},
   "outputs": [],
   "source": []
  },
  {
   "cell_type": "code",
   "execution_count": null,
   "metadata": {},
   "outputs": [],
   "source": []
  }
 ],
 "metadata": {
  "kernelspec": {
   "display_name": "Python 3",
   "language": "python",
   "name": "python3"
  },
  "language_info": {
   "codemirror_mode": {
    "name": "ipython",
    "version": 3
   },
   "file_extension": ".py",
   "mimetype": "text/x-python",
   "name": "python",
   "nbconvert_exporter": "python",
   "pygments_lexer": "ipython3",
   "version": "3.11.0"
  }
 },
 "nbformat": 4,
 "nbformat_minor": 2
}
